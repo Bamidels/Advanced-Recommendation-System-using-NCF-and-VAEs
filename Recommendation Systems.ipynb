{
 "cells": [
  {
   "cell_type": "code",
   "execution_count": 1,
   "id": "434ba391",
   "metadata": {},
   "outputs": [],
   "source": [
    "#Importing Libraries\n",
    "import warnings                                 # Used to ignore the warning given as output of the code\n",
    "warnings.filterwarnings('ignore')\n",
    "\n",
    "import numpy as np                              # Basic libraries of python for numeric and dataframe computations\n",
    "import pandas as pd\n",
    "\n",
    "import matplotlib.pyplot as plt                 # Basic library for data visualization\n",
    "import seaborn as sns                           # Slightly advanced library for data visualization\n",
    "\n",
    "from collections import defaultdict             # A dictionary output that does not raise a key error\n",
    "\n",
    "from sklearn.metrics import mean_squared_error  # A performance metrics in sklearn"
   ]
  },
  {
   "cell_type": "markdown",
   "id": "54d8e23d",
   "metadata": {},
   "source": [
    "# Loading the Data sets"
   ]
  },
  {
   "cell_type": "code",
   "execution_count": 2,
   "id": "a6920bdc",
   "metadata": {},
   "outputs": [],
   "source": [
    "#Loading Datasets\n",
    "rating = pd.read_csv('ratings.csv')"
   ]
  },
  {
   "cell_type": "markdown",
   "id": "7f3a4ce9",
   "metadata": {},
   "source": [
    "Checking the information of the data sets "
   ]
  },
  {
   "cell_type": "code",
   "execution_count": 3,
   "id": "0765cba7",
   "metadata": {},
   "outputs": [
    {
     "name": "stdout",
     "output_type": "stream",
     "text": [
      "<class 'pandas.core.frame.DataFrame'>\n",
      "RangeIndex: 100836 entries, 0 to 100835\n",
      "Data columns (total 4 columns):\n",
      " #   Column     Non-Null Count   Dtype  \n",
      "---  ------     --------------   -----  \n",
      " 0   userId     100836 non-null  int64  \n",
      " 1   movieId    100836 non-null  int64  \n",
      " 2   rating     100836 non-null  float64\n",
      " 3   timestamp  100836 non-null  int64  \n",
      "dtypes: float64(1), int64(3)\n",
      "memory usage: 3.1 MB\n"
     ]
    }
   ],
   "source": [
    "# Info of the dataframe\n",
    "rating.info()"
   ]
  },
  {
   "cell_type": "raw",
   "id": "b7a55002",
   "metadata": {},
   "source": [
    "In the ratings data, there are 100,836 rows and 4 columns.\n",
    "All the columns are of numeric data type.\n",
    "The data type of the timestamp column is int64 which is incorrect. We can convert this to DateTime format, but we don't need a timestamp column for our analysis. Hence, we can drop this column."
   ]
  },
  {
   "cell_type": "code",
   "execution_count": 4,
   "id": "05505433",
   "metadata": {},
   "outputs": [],
   "source": [
    "# drop() is a method used to remove the desired columns/rows from a dataframe\n",
    "rating = rating.drop(['timestamp'], axis = 1)"
   ]
  },
  {
   "cell_type": "markdown",
   "id": "7fa76078",
   "metadata": {},
   "source": [
    "now lets examine the top 10 records"
   ]
  },
  {
   "cell_type": "code",
   "execution_count": 5,
   "id": "1350a0c2",
   "metadata": {},
   "outputs": [
    {
     "data": {
      "text/html": [
       "<div>\n",
       "<style scoped>\n",
       "    .dataframe tbody tr th:only-of-type {\n",
       "        vertical-align: middle;\n",
       "    }\n",
       "\n",
       "    .dataframe tbody tr th {\n",
       "        vertical-align: top;\n",
       "    }\n",
       "\n",
       "    .dataframe thead th {\n",
       "        text-align: right;\n",
       "    }\n",
       "</style>\n",
       "<table border=\"1\" class=\"dataframe\">\n",
       "  <thead>\n",
       "    <tr style=\"text-align: right;\">\n",
       "      <th></th>\n",
       "      <th>userId</th>\n",
       "      <th>movieId</th>\n",
       "      <th>rating</th>\n",
       "    </tr>\n",
       "  </thead>\n",
       "  <tbody>\n",
       "    <tr>\n",
       "      <th>0</th>\n",
       "      <td>1</td>\n",
       "      <td>1</td>\n",
       "      <td>4.0</td>\n",
       "    </tr>\n",
       "    <tr>\n",
       "      <th>1</th>\n",
       "      <td>1</td>\n",
       "      <td>3</td>\n",
       "      <td>4.0</td>\n",
       "    </tr>\n",
       "    <tr>\n",
       "      <th>2</th>\n",
       "      <td>1</td>\n",
       "      <td>6</td>\n",
       "      <td>4.0</td>\n",
       "    </tr>\n",
       "    <tr>\n",
       "      <th>3</th>\n",
       "      <td>1</td>\n",
       "      <td>47</td>\n",
       "      <td>5.0</td>\n",
       "    </tr>\n",
       "    <tr>\n",
       "      <th>4</th>\n",
       "      <td>1</td>\n",
       "      <td>50</td>\n",
       "      <td>5.0</td>\n",
       "    </tr>\n",
       "    <tr>\n",
       "      <th>5</th>\n",
       "      <td>1</td>\n",
       "      <td>70</td>\n",
       "      <td>3.0</td>\n",
       "    </tr>\n",
       "    <tr>\n",
       "      <th>6</th>\n",
       "      <td>1</td>\n",
       "      <td>101</td>\n",
       "      <td>5.0</td>\n",
       "    </tr>\n",
       "    <tr>\n",
       "      <th>7</th>\n",
       "      <td>1</td>\n",
       "      <td>110</td>\n",
       "      <td>4.0</td>\n",
       "    </tr>\n",
       "    <tr>\n",
       "      <th>8</th>\n",
       "      <td>1</td>\n",
       "      <td>151</td>\n",
       "      <td>5.0</td>\n",
       "    </tr>\n",
       "    <tr>\n",
       "      <th>9</th>\n",
       "      <td>1</td>\n",
       "      <td>157</td>\n",
       "      <td>5.0</td>\n",
       "    </tr>\n",
       "  </tbody>\n",
       "</table>\n",
       "</div>"
      ],
      "text/plain": [
       "   userId  movieId  rating\n",
       "0       1        1     4.0\n",
       "1       1        3     4.0\n",
       "2       1        6     4.0\n",
       "3       1       47     5.0\n",
       "4       1       50     5.0\n",
       "5       1       70     3.0\n",
       "6       1      101     5.0\n",
       "7       1      110     4.0\n",
       "8       1      151     5.0\n",
       "9       1      157     5.0"
      ]
     },
     "execution_count": 5,
     "metadata": {},
     "output_type": "execute_result"
    }
   ],
   "source": [
    "rating.head(10)"
   ]
  },
  {
   "cell_type": "markdown",
   "id": "a692bd01",
   "metadata": {},
   "source": [
    "Exploring the datasets"
   ]
  },
  {
   "cell_type": "code",
   "execution_count": 6,
   "id": "46a2e3de",
   "metadata": {},
   "outputs": [
    {
     "data": {
      "text/plain": [
       "610"
      ]
     },
     "execution_count": 6,
     "metadata": {},
     "output_type": "execute_result"
    }
   ],
   "source": [
    "# Finding number of unique users by using nunique method\n",
    "rating['userId'].nunique()"
   ]
  },
  {
   "cell_type": "markdown",
   "id": "4633e985",
   "metadata": {},
   "source": [
    "There are 610 unique users in the \"rating\" dataset."
   ]
  },
  {
   "cell_type": "code",
   "execution_count": 7,
   "id": "360e9f56",
   "metadata": {},
   "outputs": [
    {
     "data": {
      "text/plain": [
       "9724"
      ]
     },
     "execution_count": 7,
     "metadata": {},
     "output_type": "execute_result"
    }
   ],
   "source": [
    "# Finding the number of unique movies\n",
    "rating['movieId'].nunique()"
   ]
  },
  {
   "cell_type": "raw",
   "id": "26ab2e4e",
   "metadata": {},
   "source": [
    "The dataset contains 9,724 distinct movies.\n",
    "According to the number of distinct users and films, the dataset might include 610 * 9724 = 59,31,640 ratings. We only have 100,836 ratings, so obviously not every user has given their opinion on every film in the collection. As a result, it is now possible to develop a system for recommending movies to people who have not yet engaged with them."
   ]
  },
  {
   "cell_type": "code",
   "execution_count": 8,
   "id": "acee9045",
   "metadata": {},
   "outputs": [
    {
     "data": {
      "text/html": [
       "<div>\n",
       "<style scoped>\n",
       "    .dataframe tbody tr th:only-of-type {\n",
       "        vertical-align: middle;\n",
       "    }\n",
       "\n",
       "    .dataframe tbody tr th {\n",
       "        vertical-align: top;\n",
       "    }\n",
       "\n",
       "    .dataframe thead th {\n",
       "        text-align: right;\n",
       "    }\n",
       "</style>\n",
       "<table border=\"1\" class=\"dataframe\">\n",
       "  <thead>\n",
       "    <tr style=\"text-align: right;\">\n",
       "      <th></th>\n",
       "      <th></th>\n",
       "      <th>rating</th>\n",
       "    </tr>\n",
       "    <tr>\n",
       "      <th>userId</th>\n",
       "      <th>movieId</th>\n",
       "      <th></th>\n",
       "    </tr>\n",
       "  </thead>\n",
       "  <tbody>\n",
       "    <tr>\n",
       "      <th rowspan=\"5\" valign=\"top\">1</th>\n",
       "      <th>1</th>\n",
       "      <td>1</td>\n",
       "    </tr>\n",
       "    <tr>\n",
       "      <th>3</th>\n",
       "      <td>1</td>\n",
       "    </tr>\n",
       "    <tr>\n",
       "      <th>6</th>\n",
       "      <td>1</td>\n",
       "    </tr>\n",
       "    <tr>\n",
       "      <th>47</th>\n",
       "      <td>1</td>\n",
       "    </tr>\n",
       "    <tr>\n",
       "      <th>50</th>\n",
       "      <td>1</td>\n",
       "    </tr>\n",
       "    <tr>\n",
       "      <th>...</th>\n",
       "      <th>...</th>\n",
       "      <td>...</td>\n",
       "    </tr>\n",
       "    <tr>\n",
       "      <th rowspan=\"5\" valign=\"top\">610</th>\n",
       "      <th>166534</th>\n",
       "      <td>1</td>\n",
       "    </tr>\n",
       "    <tr>\n",
       "      <th>168248</th>\n",
       "      <td>1</td>\n",
       "    </tr>\n",
       "    <tr>\n",
       "      <th>168250</th>\n",
       "      <td>1</td>\n",
       "    </tr>\n",
       "    <tr>\n",
       "      <th>168252</th>\n",
       "      <td>1</td>\n",
       "    </tr>\n",
       "    <tr>\n",
       "      <th>170875</th>\n",
       "      <td>1</td>\n",
       "    </tr>\n",
       "  </tbody>\n",
       "</table>\n",
       "<p>100836 rows × 1 columns</p>\n",
       "</div>"
      ],
      "text/plain": [
       "                rating\n",
       "userId movieId        \n",
       "1      1             1\n",
       "       3             1\n",
       "       6             1\n",
       "       47            1\n",
       "       50            1\n",
       "...                ...\n",
       "610    166534        1\n",
       "       168248        1\n",
       "       168250        1\n",
       "       168252        1\n",
       "       170875        1\n",
       "\n",
       "[100836 rows x 1 columns]"
      ]
     },
     "execution_count": 8,
     "metadata": {},
     "output_type": "execute_result"
    }
   ],
   "source": [
    "# Finding the frequency of movies rated by each user\n",
    "rating.groupby(['userId', 'movieId']).count()"
   ]
  },
  {
   "cell_type": "code",
   "execution_count": 9,
   "id": "984fb58d",
   "metadata": {},
   "outputs": [
    {
     "data": {
      "text/plain": [
       "100836"
      ]
     },
     "execution_count": 9,
     "metadata": {},
     "output_type": "execute_result"
    }
   ],
   "source": [
    "# Finding the sum of ratings count by user-movie pair\n",
    "rating.groupby(['userId', 'movieId']).count()['rating'].sum()"
   ]
  },
  {
   "cell_type": "markdown",
   "id": "bd41af85",
   "metadata": {},
   "source": [
    "The sum is equal to the total number of observations, which implies that there is only one interaction between a pair of a movie and a user."
   ]
  },
  {
   "cell_type": "code",
   "execution_count": 10,
   "id": "3dd81ccd",
   "metadata": {},
   "outputs": [
    {
     "data": {
      "text/plain": [
       "356       329\n",
       "318       317\n",
       "296       307\n",
       "593       279\n",
       "2571      278\n",
       "         ... \n",
       "5986        1\n",
       "100304      1\n",
       "34800       1\n",
       "83976       1\n",
       "8196        1\n",
       "Name: movieId, Length: 9724, dtype: int64"
      ]
     },
     "execution_count": 10,
     "metadata": {},
     "output_type": "execute_result"
    }
   ],
   "source": [
    "# Counting the number of people who have watched a certain movie\n",
    "rating['movieId'].value_counts()"
   ]
  },
  {
   "cell_type": "raw",
   "id": "879f6ee6",
   "metadata": {},
   "source": [
    "Users (329) have engaged with the movie with movieId 356.\n",
    "Nonetheless, given that our dataset has 610 distinct users, there is a chance that there will be 610-329 = 281 additional encounters. We can create a recommendation engine to determine which of the 281 remaining users is most likely to interact with this movie.\n",
    "The distribution of ratings among these 329 encounters must also be taken into account in order to determine if this film is the most or least popular."
   ]
  },
  {
   "cell_type": "code",
   "execution_count": 11,
   "id": "37886a37",
   "metadata": {},
   "outputs": [
    {
     "data": {
      "image/png": "[encoded data removed]",
      "text/plain": [
       "<Figure size 504x504 with 1 Axes>"
      ]
     },
     "metadata": {
      "needs_background": "light"
     },
     "output_type": "display_data"
    }
   ],
   "source": [
    "# Plotting distributions of ratings for 329 interactions with movieid 356\n",
    "\n",
    "# Let us fix the size of the figure\n",
    "plt.figure(figsize = (7, 7))\n",
    "\n",
    "rating[rating['movieId'] == 356]['rating'].value_counts().plot(kind = 'bar')\n",
    "\n",
    "# This gives a label to the variable on the x-axis\n",
    "plt.xlabel('Rating')\n",
    "\n",
    "# This gives a label to the variable on the y-axis\n",
    "plt.ylabel('Count')\n",
    "\n",
    "# This displays the plot\n",
    "plt.show()"
   ]
  },
  {
   "cell_type": "raw",
   "id": "d5f4877e",
   "metadata": {},
   "source": [
    "We can see that this movie has been liked by the majority of users, as the count of ratings 5 and 4 is higher than the count of lower ratings.\n",
    "There can be movies with very high interactions but the count of ratings 1 and 2 may be much higher than the count for ratings 4 or 5 which would imply that the movie is disliked by the majority of the users."
   ]
  },
  {
   "cell_type": "code",
   "execution_count": 12,
   "id": "c7ba5183",
   "metadata": {},
   "outputs": [
    {
     "data": {
      "text/plain": [
       "414    2698\n",
       "599    2478\n",
       "474    2108\n",
       "448    1864\n",
       "274    1346\n",
       "       ... \n",
       "406      20\n",
       "595      20\n",
       "569      20\n",
       "431      20\n",
       "442      20\n",
       "Name: userId, Length: 610, dtype: int64"
      ]
     },
     "execution_count": 12,
     "metadata": {},
     "output_type": "execute_result"
    }
   ],
   "source": [
    "# Counting the number of movies each user has watched\n",
    "rating['userId'].value_counts()"
   ]
  },
  {
   "cell_type": "raw",
   "id": "3e03b040",
   "metadata": {},
   "source": [
    "The user with userId: 414 has interacted with the most number of movies, i.e., 2,698 times.\n",
    "But still, there is a possibility of 9724 - 2698 = 7026 more interactions as we have 9724 unique movies in our dataset. For those 7026 remaining movies, we can build a recommendation system to predict which movies are most likely to be watched by this user."
   ]
  },
  {
   "cell_type": "code",
   "execution_count": 13,
   "id": "8d4fdfd0",
   "metadata": {},
   "outputs": [
    {
     "data": {
      "text/plain": [
       "userId\n",
       "1       232\n",
       "2        29\n",
       "3        39\n",
       "4       216\n",
       "5        44\n",
       "       ... \n",
       "606    1115\n",
       "607     187\n",
       "608     831\n",
       "609      37\n",
       "610    1302\n",
       "Name: movieId, Length: 610, dtype: int64"
      ]
     },
     "execution_count": 13,
     "metadata": {},
     "output_type": "execute_result"
    }
   ],
   "source": [
    "#Finding user-movie interactions distribution\n",
    "count_interactions = rating.groupby('userId').count()['movieId']\n",
    "count_interactions"
   ]
  },
  {
   "cell_type": "markdown",
   "id": "afc91ac5",
   "metadata": {},
   "source": [
    "# Rank Based Recommendation System"
   ]
  },
  {
   "cell_type": "markdown",
   "id": "13f2239f",
   "metadata": {},
   "source": [
    "Recommendations are given via rank-based recommendation systems based on the most well-liked products. When we experience a cold start issue, this type of recommendation system is helpful. The term \"cold start\" describes the problem that occurs when a new user joins the system and the machine is unable to suggest movies to him since the user has no prior interactions with the system that are stored in the dataset. In those circumstances, we can suggest movies to the new user using a rank-based recommendation algorithm.\n",
    "\n",
    "The rank-based recommendation method is created by averaging all of the ratings given for each movie, after which the movies are ranked according to this average rating."
   ]
  },
  {
   "cell_type": "code",
   "execution_count": 14,
   "id": "9eea9a6e",
   "metadata": {},
   "outputs": [],
   "source": [
    "# Calculate average ratings for each movie\n",
    "average_rating = rating.groupby('movieId').mean()['rating']\n",
    "\n",
    "# Calculate the count of ratings for each movie\n",
    "count_rating = rating.groupby('movieId').count()['rating']\n",
    "\n",
    "# Making a dataframe with the count and average of ratings\n",
    "final_rating = pd.DataFrame({'avg_rating': average_rating, 'rating_count': count_rating})"
   ]
  },
  {
   "cell_type": "code",
   "execution_count": 15,
   "id": "53e0152c",
   "metadata": {},
   "outputs": [
    {
     "data": {
      "text/html": [
       "<div>\n",
       "<style scoped>\n",
       "    .dataframe tbody tr th:only-of-type {\n",
       "        vertical-align: middle;\n",
       "    }\n",
       "\n",
       "    .dataframe tbody tr th {\n",
       "        vertical-align: top;\n",
       "    }\n",
       "\n",
       "    .dataframe thead th {\n",
       "        text-align: right;\n",
       "    }\n",
       "</style>\n",
       "<table border=\"1\" class=\"dataframe\">\n",
       "  <thead>\n",
       "    <tr style=\"text-align: right;\">\n",
       "      <th></th>\n",
       "      <th>avg_rating</th>\n",
       "      <th>rating_count</th>\n",
       "    </tr>\n",
       "    <tr>\n",
       "      <th>movieId</th>\n",
       "      <th></th>\n",
       "      <th></th>\n",
       "    </tr>\n",
       "  </thead>\n",
       "  <tbody>\n",
       "    <tr>\n",
       "      <th>1</th>\n",
       "      <td>3.920930</td>\n",
       "      <td>215</td>\n",
       "    </tr>\n",
       "    <tr>\n",
       "      <th>2</th>\n",
       "      <td>3.431818</td>\n",
       "      <td>110</td>\n",
       "    </tr>\n",
       "    <tr>\n",
       "      <th>3</th>\n",
       "      <td>3.259615</td>\n",
       "      <td>52</td>\n",
       "    </tr>\n",
       "    <tr>\n",
       "      <th>4</th>\n",
       "      <td>2.357143</td>\n",
       "      <td>7</td>\n",
       "    </tr>\n",
       "    <tr>\n",
       "      <th>5</th>\n",
       "      <td>3.071429</td>\n",
       "      <td>49</td>\n",
       "    </tr>\n",
       "  </tbody>\n",
       "</table>\n",
       "</div>"
      ],
      "text/plain": [
       "         avg_rating  rating_count\n",
       "movieId                          \n",
       "1          3.920930           215\n",
       "2          3.431818           110\n",
       "3          3.259615            52\n",
       "4          2.357143             7\n",
       "5          3.071429            49"
      ]
     },
     "execution_count": 15,
     "metadata": {},
     "output_type": "execute_result"
    }
   ],
   "source": [
    "# First 5 records of the final_rating dataset\n",
    "final_rating.head()"
   ]
  },
  {
   "cell_type": "markdown",
   "id": "1264e3f8",
   "metadata": {},
   "source": [
    "To determine the top n movies for a suggestion based on average movie ratings, let's now develop a function. We can also include a requirement for a minimum quantity of interactions before a movie is given recommendation credit."
   ]
  },
  {
   "cell_type": "code",
   "execution_count": 16,
   "id": "5fbfedf6",
   "metadata": {},
   "outputs": [],
   "source": [
    "# It gives top n movies among those being watched for more than min_interactions\n",
    "def top_n_movies(data, n, min_interaction = 100):\n",
    "    \n",
    "    # Finding movies with interactions greater than the minimum number of interactions\n",
    "    recommendations = data[data['rating_count'] > min_interaction]\n",
    "    \n",
    "    # Sorting values with respect to the average rating\n",
    "    recommendations = recommendations.sort_values(by = 'avg_rating', ascending = False)\n",
    "    \n",
    "    return recommendations.index[:n]"
   ]
  },
  {
   "cell_type": "markdown",
   "id": "9f220b1d",
   "metadata": {},
   "source": [
    "We can use this function with different n's and minimum interactions to get movies to be recommended."
   ]
  },
  {
   "cell_type": "markdown",
   "id": "13e87220",
   "metadata": {},
   "source": [
    "Recommending top 5 movies with 50 minimum interactions based on popularity"
   ]
  },
  {
   "cell_type": "code",
   "execution_count": 17,
   "id": "ed42592a",
   "metadata": {},
   "outputs": [
    {
     "data": {
      "text/plain": [
       "[318, 858, 2959, 1276, 750]"
      ]
     },
     "execution_count": 17,
     "metadata": {},
     "output_type": "execute_result"
    }
   ],
   "source": [
    "list(top_n_movies(final_rating, 5, 50))"
   ]
  },
  {
   "cell_type": "markdown",
   "id": "b6b7b00f",
   "metadata": {},
   "source": [
    "Recommending top 5 movies with 100 minimum interactions based on popularity"
   ]
  },
  {
   "cell_type": "code",
   "execution_count": 18,
   "id": "2269b266",
   "metadata": {},
   "outputs": [
    {
     "data": {
      "text/plain": [
       "[318, 858, 2959, 1221, 48516]"
      ]
     },
     "execution_count": 18,
     "metadata": {},
     "output_type": "execute_result"
    }
   ],
   "source": [
    "list(top_n_movies(final_rating, 5,100))"
   ]
  },
  {
   "cell_type": "markdown",
   "id": "799b08d4",
   "metadata": {},
   "source": [
    "# Collaborative Filtering Based Recommendation System"
   ]
  },
  {
   "cell_type": "raw",
   "id": "05dfe6d9",
   "metadata": {},
   "source": [
    "Types of Collaborative Filtering\n",
    "Similarity/Neighborhood-based\n",
    "User-User similarity-based\n",
    "Item-Item similarity-based\n",
    "Model-based"
   ]
  },
  {
   "cell_type": "markdown",
   "id": "a7913752",
   "metadata": {},
   "source": [
    "Building a baseline user-user similarity based recommendation system"
   ]
  },
  {
   "cell_type": "markdown",
   "id": "12dadd4b",
   "metadata": {},
   "source": [
    "we are creating a similarity-based recommendation system using cosine similarity and KNN to locate comparable people who are the given user's closest neighbors.\n",
    "Surprise, we're going to use a new library to build the remaining models. Let's import the essential classes and functions from this library first.\n",
    "To install the surprise library, kindly use the code below. When you initially execute the code, you just need to perform it once."
   ]
  },
  {
   "cell_type": "code",
   "execution_count": 19,
   "id": "99517453",
   "metadata": {},
   "outputs": [
    {
     "name": "stdout",
     "output_type": "stream",
     "text": [
      "Requirement already satisfied: surprise in /opt/anaconda3/lib/python3.8/site-packages (0.1)\r\n",
      "Requirement already satisfied: scikit-surprise in /opt/anaconda3/lib/python3.8/site-packages (from surprise) (1.1.3)\r\n",
      "Requirement already satisfied: joblib>=1.0.0 in /opt/anaconda3/lib/python3.8/site-packages (from scikit-surprise->surprise) (1.2.0)\r\n",
      "Requirement already satisfied: scipy>=1.3.2 in /opt/anaconda3/lib/python3.8/site-packages (from scikit-surprise->surprise) (1.10.1)\r\n",
      "Requirement already satisfied: numpy>=1.17.3 in /opt/anaconda3/lib/python3.8/site-packages (from scikit-surprise->surprise) (1.22.4)\r\n"
     ]
    }
   ],
   "source": [
    "# Installing the surprise library\n",
    "!pip install surprise"
   ]
  },
  {
   "cell_type": "code",
   "execution_count": 20,
   "id": "7524eae1",
   "metadata": {},
   "outputs": [],
   "source": [
    "# To compute the accuracy of models\n",
    "from surprise import accuracy\n",
    "\n",
    "# Class to parse a file containing ratings, data should be in structure - user; item; rating\n",
    "from surprise.reader import Reader\n",
    "\n",
    "# Class for loading datasets\n",
    "from surprise.dataset import Dataset\n",
    "\n",
    "# For tuning model hyperparameters\n",
    "from surprise.model_selection import GridSearchCV\n",
    "\n",
    "# For splitting the rating data in train and test datasets\n",
    "from surprise.model_selection import train_test_split\n",
    "\n",
    "# For implementing similarity-based recommendation system\n",
    "from surprise.prediction_algorithms.knns import KNNBasic\n",
    "\n",
    "# For implementing matrix factorization based recommendation system\n",
    "from surprise.prediction_algorithms.matrix_factorization import SVD\n",
    "\n",
    "# for implementing K-Fold cross-validation\n",
    "from surprise.model_selection import KFold\n",
    "\n",
    "# For implementing clustering-based recommendation system\n",
    "from surprise import CoClustering"
   ]
  },
  {
   "cell_type": "markdown",
   "id": "2a637bc9",
   "metadata": {},
   "source": [
    "Relevant item: An item (product in this case) that is actually rated higher than the threshold rating (here 3.5) is relevant, and an item that is actually rated lower than the threshold rating is a non-relevant item."
   ]
  },
  {
   "cell_type": "markdown",
   "id": "81685b0b",
   "metadata": {},
   "source": [
    "Recommended item: An item whose predicted rating is higher than the threshold (here 3.5) is a recommended item, and an item whose predicted rating is lower the threshold rating is a non-recommended item, i.e., it will not be recommended to the user."
   ]
  },
  {
   "cell_type": "markdown",
   "id": "7ecc6fae",
   "metadata": {},
   "source": [
    "False Negative (FN): It is the frequency of relevant items that are not recommended to the user. If the relevant items are not recommended to the user, then the user might not buy the product/item. This would result in the loss of opportunity for the service provider, which they would like to minimize.\n",
    "\n",
    "False Positive (FP): It is the frequency of recommended items that are actually not relevant. In this case, the recommendation system is not doing a good job of finding and recommending the relevant items to the user. This would result in loss of resources for the service provider, which they would also like to minimize.\n",
    "\n",
    "Recall: It is the fraction of actually relevant items that are recommended to the user, i.e., if out of 10 relevant products, 6 are recommended to the user, then recall is 0.60. Higher the value of recall, better is the model. It is one of the metrics to do the performance assessment of classification models.\n",
    "\n",
    "Precision: It is the fraction of recommended items that are relevant actually, i.e., if out of 10 recommended items, 6 are found relevant by the user, then precision is 0.60. The higher the value of precision, better is the model. It is one of the metrics to do the performance assessment of classification models."
   ]
  },
  {
   "cell_type": "code",
   "execution_count": 21,
   "id": "43686f68",
   "metadata": {},
   "outputs": [],
   "source": [
    "def precision_recall_at_k(model, k = 10, threshold = 3.5):\n",
    "    \"\"\"Return precision and recall at k metrics for each user\"\"\"\n",
    "\n",
    "    # First map the predictions to each user\n",
    "    user_est_true = defaultdict(list)\n",
    "    \n",
    "    # Making predictions on the test data\n",
    "    predictions = model.test(testset)\n",
    "    \n",
    "    for uid, _, true_r, est, _ in predictions:\n",
    "        user_est_true[uid].append((est, true_r))\n",
    "\n",
    "    precisions = dict()\n",
    "    recalls = dict()\n",
    "    for uid, user_ratings in user_est_true.items():\n",
    "\n",
    "        # Sort user ratings by estimated value\n",
    "        user_ratings.sort(key = lambda x: x[0], reverse = True)\n",
    "\n",
    "        # Number of relevant items\n",
    "        n_rel = sum((true_r >= threshold) for (_, true_r) in user_ratings)\n",
    "\n",
    "        # Number of recommended items in top k\n",
    "        n_rec_k = sum((est >= threshold) for (est, _) in user_ratings[:k])\n",
    "\n",
    "        # Number of relevant and recommended items in top k\n",
    "        n_rel_and_rec_k = sum(((true_r >= threshold) and (est >= threshold))\n",
    "                              for (est, true_r) in user_ratings[:k])\n",
    "\n",
    "        # Precision@K: Proportion of recommended items that are relevant\n",
    "        # When n_rec_k is 0, Precision is undefined. Therefore, we are setting Precision to 0 when n_rec_k is 0\n",
    "\n",
    "        precisions[uid] = n_rel_and_rec_k / n_rec_k if n_rec_k != 0 else 0\n",
    "\n",
    "        # Recall@K: Proportion of relevant items that are recommended\n",
    "        # When n_rel is 0, Recall is undefined. Therefore, we are setting Recall to 0 when n_rel is 0\n",
    "\n",
    "        recalls[uid] = n_rel_and_rec_k / n_rel if n_rel != 0 else 0\n",
    "    \n",
    "    # Mean of all the predicted precisions are calculated\n",
    "    precision = round((sum(prec for prec in precisions.values()) / len(precisions)), 3)\n",
    "    \n",
    "    # Mean of all the predicted recalls are calculated\n",
    "    recall = round((sum(rec for rec in recalls.values()) / len(recalls)), 3)\n",
    "    \n",
    "    accuracy.rmse(predictions)\n",
    "    \n",
    "    print('Precision: ', precision) # Command to print the overall precision\n",
    "    \n",
    "    print('Recall: ', recall) # Command to print the overall recall\n",
    "    \n",
    "    print('F_1 score: ', round((2*precision*recall)/(precision+recall), 3)) # Formula to compute the F-1 score"
   ]
  },
  {
   "cell_type": "markdown",
   "id": "0756d5d6",
   "metadata": {},
   "source": [
    "Below we are converting the rating dataset, which is a pandas dataframe, into a different format called surprise.dataset.DatasetAutoFolds. This is required by the surprise library. To do this, we will be using the classes Reader and Dataset."
   ]
  },
  {
   "cell_type": "code",
   "execution_count": 22,
   "id": "eea07913",
   "metadata": {},
   "outputs": [],
   "source": [
    "# Instantiating Reader scale with expected rating scale\n",
    "reader = Reader(rating_scale = (0, 5))\n",
    "\n",
    "# Loading the rating dataset\n",
    "data = Dataset.load_from_df(rating[['userId', 'movieId', 'rating']], reader)\n",
    "\n",
    "# Splitting the data into train and test datasets\n",
    "trainset, testset = train_test_split(data, test_size = 0.2, random_state = 42)"
   ]
  },
  {
   "cell_type": "markdown",
   "id": "213a7e8e",
   "metadata": {},
   "source": [
    "Now, we are ready to build the first baseline similarity-based recommendation system using the cosine similarity.\n",
    "KNNBasic is an algorithm that is also associated with the surprise package. It is used to find the desired similar items among a given set of items."
   ]
  },
  {
   "cell_type": "code",
   "execution_count": 23,
   "id": "4091a6df",
   "metadata": {},
   "outputs": [
    {
     "name": "stdout",
     "output_type": "stream",
     "text": [
      "RMSE: 0.9823\n",
      "Precision:  0.757\n",
      "Recall:  0.542\n",
      "F_1 score:  0.632\n"
     ]
    }
   ],
   "source": [
    "# Declaring the similarity options\n",
    "sim_options = {'name': 'cosine',\n",
    "               'user_based': True}\n",
    "\n",
    "# KNN algorithm is used to find desired similar items\n",
    "sim_user_user = KNNBasic(sim_options = sim_options, verbose = False, random_state = 1)\n",
    "\n",
    "# Train the algorithm on the trainset, and predict ratings for the test set\n",
    "sim_user_user.fit(trainset)\n",
    "\n",
    "# Let us compute precision@k, recall@k, and F_1 score with k = 10\n",
    "precision_recall_at_k(sim_user_user)"
   ]
  },
  {
   "cell_type": "raw",
   "id": "520aacf5",
   "metadata": {},
   "source": [
    "We have calculated RMSE to check how far the overall predicted ratings are from the actual ratings.\n",
    "Intuition of Recall: We are getting a recall of ~0.54, which means out of all the relevant movies 54% are recommended.\n",
    "Intuition of Precision: We are getting a precision of ~ 0.76, which means out of all the recommended movies 76% are relevant.\n",
    "Here F_1 score of the baseline model is ~0.63. It indicates that mostly recommended movies were relevant and relevant movies were recommended. We will try to improve this later by using GridSearchCV by tuning different hyperparameters of this algorithm."
   ]
  },
  {
   "cell_type": "markdown",
   "id": "fe36b387",
   "metadata": {},
   "source": [
    "Now, let's predict the rating for the user with userId = 4 and the movie with movieId = 10 as shown below. Here, the user has already interacted or watched the movie with movieId 10."
   ]
  },
  {
   "cell_type": "code",
   "execution_count": 24,
   "id": "20e75cc1",
   "metadata": {},
   "outputs": [
    {
     "name": "stdout",
     "output_type": "stream",
     "text": [
      "user: 4          item: 10         r_ui = 4.00   est = 3.41   {'actual_k': 40, 'was_impossible': False}\n"
     ]
    },
    {
     "data": {
      "text/plain": [
       "Prediction(uid=4, iid=10, r_ui=4, est=3.4133289774831344, details={'actual_k': 40, 'was_impossible': False})"
      ]
     },
     "execution_count": 24,
     "metadata": {},
     "output_type": "execute_result"
    }
   ],
   "source": [
    "# Predicting rating for a sample user with an interacted movie\n",
    "sim_user_user.predict(4, 10, r_ui = 4, verbose = True)"
   ]
  },
  {
   "cell_type": "markdown",
   "id": "f5e1925d",
   "metadata": {},
   "source": [
    "The prediction for the user with userId = 4 and the movie with movieId = 10 is 3.41."
   ]
  },
  {
   "cell_type": "markdown",
   "id": "6458c9bd",
   "metadata": {},
   "source": [
    "The above output demonstrates that the actual rating for this user-item pair is not significantly different from the projected rating by this user-user similarity-based baseline model.\n",
    "\"actual k\" is also included in the output. When training the model, the value of K in the KNN is employed. 40 is the default value."
   ]
  },
  {
   "cell_type": "markdown",
   "id": "1bb67388",
   "metadata": {},
   "source": [
    "Below is the list of users who have seen the movie with movieId 3."
   ]
  },
  {
   "cell_type": "code",
   "execution_count": 25,
   "id": "8cc6428c",
   "metadata": {},
   "outputs": [
    {
     "data": {
      "text/plain": [
       "array([  1,   6,  19,  32,  42,  43,  44,  51,  58,  64,  68,  91, 100,\n",
       "       102, 116, 117, 150, 151, 169, 179, 217, 226, 240, 269, 270, 288,\n",
       "       289, 294, 302, 307, 308, 321, 330, 337, 368, 410, 414, 448, 456,\n",
       "       470, 477, 480, 492, 501, 544, 552, 555, 588, 590, 594, 599, 608])"
      ]
     },
     "execution_count": 25,
     "metadata": {},
     "output_type": "execute_result"
    }
   ],
   "source": [
    "rating[rating.movieId == 3].userId.unique()"
   ]
  },
  {
   "cell_type": "markdown",
   "id": "fd9eec8f",
   "metadata": {},
   "source": [
    "As the above list does not contain user id 4, we can say that user with user id 4 has not seen the movie with movieId 3."
   ]
  },
  {
   "cell_type": "markdown",
   "id": "fe30b221",
   "metadata": {},
   "source": [
    "In the below, we are predicting the rating for the same userId = 4 but for a movie with which this user has not interacted yet, i.e., movieId = 3."
   ]
  },
  {
   "cell_type": "code",
   "execution_count": 26,
   "id": "24853eff",
   "metadata": {},
   "outputs": [
    {
     "name": "stdout",
     "output_type": "stream",
     "text": [
      "user: 4          item: 3          r_ui = None   est = 3.26   {'actual_k': 40, 'was_impossible': False}\n"
     ]
    },
    {
     "data": {
      "text/plain": [
       "Prediction(uid=4, iid=3, r_ui=None, est=3.260929007645626, details={'actual_k': 40, 'was_impossible': False})"
      ]
     },
     "execution_count": 26,
     "metadata": {},
     "output_type": "execute_result"
    }
   ],
   "source": [
    "# Predicting rating for a sample user with a non interacted movie\n",
    "sim_user_user.predict(4, 3, verbose = True)"
   ]
  },
  {
   "cell_type": "markdown",
   "id": "ef2544e6",
   "metadata": {},
   "source": [
    "The predicted rating for user with userId 4 and movie with movieId 3 is 3.26, even though this user has not interacted with this movie before."
   ]
  },
  {
   "cell_type": "code",
   "execution_count": 27,
   "id": "fba525b4",
   "metadata": {},
   "outputs": [
    {
     "name": "stdout",
     "output_type": "stream",
     "text": [
      "user: 100        item: 300        r_ui = None   est = 3.63   {'actual_k': 40, 'was_impossible': False}\n"
     ]
    },
    {
     "data": {
      "text/plain": [
       "Prediction(uid=100, iid=300, r_ui=None, est=3.625291508753157, details={'actual_k': 40, 'was_impossible': False})"
      ]
     },
     "execution_count": 27,
     "metadata": {},
     "output_type": "execute_result"
    }
   ],
   "source": [
    "# Predicting rating for a sample user with a non interacted movie\n",
    "sim_user_user.predict(100, 300, verbose = True)"
   ]
  },
  {
   "cell_type": "markdown",
   "id": "76a92a67",
   "metadata": {},
   "source": [
    "The predicted rating for user with userId = 100 and movie with movieId = 300 is 3.63."
   ]
  },
  {
   "cell_type": "markdown",
   "id": "a0fe2773",
   "metadata": {},
   "source": [
    "Above, we have predicted the rating for this user-item pair based on this user-user similarity-based baseline model."
   ]
  },
  {
   "cell_type": "markdown",
   "id": "f7e23deb",
   "metadata": {},
   "source": [
    "# Improving similarity-based recommendation system by tuning its hyperparameters"
   ]
  },
  {
   "cell_type": "markdown",
   "id": "907404e3",
   "metadata": {},
   "source": [
    "Hyperparameters for the KNNBasic algorithms will be tuned below. Let's attempt to explore a few of this algorithm's hyperparameters:\n",
    "\n",
    "The (maximum) number of neighbors to consider for aggregation is indicated by the integer k. K has a default value of 40. The minimum number of neighbors to consider for aggregation is indicated by the integer _k. In the absence of sufficient neighbors, the prediction is set to the mean score across all countries. The initial setting is 1.\n",
    "the dict sim options a list of alternatives for the similarity measure in a dictionary. In addition, four similarity measurements are readily available:"
   ]
  },
  {
   "cell_type": "markdown",
   "id": "2726c604",
   "metadata": {},
   "source": [
    "cosine\n",
    "msd (default)\n",
    "Pearson\n",
    "Pearson baseline"
   ]
  },
  {
   "cell_type": "markdown",
   "id": "30339d4b",
   "metadata": {},
   "source": [
    "Note: GridSearchCV does not accept the metrics recall@k, precision@k, or F1 Score@k. As a result, we'll tune the model using RMSE."
   ]
  },
  {
   "cell_type": "code",
   "execution_count": 28,
   "id": "8c2a58e3",
   "metadata": {},
   "outputs": [
    {
     "name": "stdout",
     "output_type": "stream",
     "text": [
      "0.9481559577126856\n",
      "{'k': 30, 'min_k': 3, 'sim_options': {'name': 'msd', 'user_based': True}}\n"
     ]
    }
   ],
   "source": [
    "# Setting up parameter grid to tune the hyperparameters\n",
    "param_grid = {'k': [30, 40, 50], 'min_k': [3, 6, 9],\n",
    "              'sim_options': {'name': ['msd', 'cosine'],\n",
    "                              'user_based': [True]}\n",
    "              }\n",
    "\n",
    "# Performing 3-Fold cross-validation to tune the hyperparameters\n",
    "gs = GridSearchCV(KNNBasic, param_grid, measures = ['rmse'], cv = 3, n_jobs = -1)\n",
    "\n",
    "# Fitting the model on data\n",
    "gs.fit(data)\n",
    "\n",
    "# Printing the best RMSE score\n",
    "print(gs.best_score['rmse'])\n",
    "\n",
    "# Printing the combination of parameters that gave the best RMSE score\n",
    "print(gs.best_params['rmse'])"
   ]
  },
  {
   "cell_type": "markdown",
   "id": "342716d1",
   "metadata": {},
   "source": [
    "After performing hyperparameter tuning using GridSearchCV, the best RMSE score achieved is 0.9477047857305485, and the hyperparameters that gave this score are k=30, min_k=3, and sim_options={'name': 'msd', 'user_based': True}."
   ]
  },
  {
   "cell_type": "markdown",
   "id": "340b2d08",
   "metadata": {},
   "source": [
    "Once the grid search is complete, we can get the optimal values for each of those hyperparameters as shown above.\n",
    "\n",
    "Now, let's build the final model by using the optimal values of the hyperparameters, which we received by using the grid search cross-validation."
   ]
  },
  {
   "cell_type": "code",
   "execution_count": 29,
   "id": "62d38190",
   "metadata": {},
   "outputs": [
    {
     "name": "stdout",
     "output_type": "stream",
     "text": [
      "RMSE: 0.9467\n",
      "Precision:  0.762\n",
      "Recall:  0.554\n",
      "F_1 score:  0.642\n"
     ]
    }
   ],
   "source": [
    "# Using the optimal similarity measure for user-user collaborative filtering\n",
    "sim_options = {'name': 'msd',\n",
    "               'user_based': True}\n",
    "\n",
    "# Creating an instance of KNNBasic with optimal hyperparameter values\n",
    "sim_user_user_optimized = KNNBasic(sim_options = sim_options, k = 30, min_k = 3, random_state = 1, verbose = False)\n",
    "\n",
    "# Training the algorithm on the trainset\n",
    "sim_user_user_optimized.fit(trainset)\n",
    "\n",
    "# Let us compute precision@k, recall@k, and F_1 score with k = 10\n",
    "precision_recall_at_k(sim_user_user_optimized)"
   ]
  },
  {
   "cell_type": "markdown",
   "id": "5670117f",
   "metadata": {},
   "source": [
    "Based on the above, we have tuned the hyperparameters for a model, and the resulting tuned model was compared to a baseline model. The F1 score and RMSE were used as performance metrics to evaluate the models.\n",
    "\n",
    "The statement indicates that after tuning the hyperparameters, the F1 score of the tuned model increased slightly compared to the baseline model. Additionally, the RMSE of the tuned model decreased compared to the model before hyperparameter tuning.\n",
    "\n",
    "Based on this information, we can conclude that the model's performance has improved slightly after hyperparameter tuning. However, it is worth noting that the degree of improvement and the overall performance of the model may still depend on other factors, such as the quality and quantity of the data, the choice of algorithms and features, and the specific use case."
   ]
  },
  {
   "cell_type": "markdown",
   "id": "62473336",
   "metadata": {},
   "source": [
    "Let us now predict the rating for the user with userId = 4 and the movie with movieId = 10 with the optimized model as shown below."
   ]
  },
  {
   "cell_type": "code",
   "execution_count": 30,
   "id": "02f49e0a",
   "metadata": {},
   "outputs": [
    {
     "name": "stdout",
     "output_type": "stream",
     "text": [
      "user: 4          item: 10         r_ui = 4.00   est = 3.50   {'actual_k': 30, 'was_impossible': False}\n"
     ]
    },
    {
     "data": {
      "text/plain": [
       "Prediction(uid=4, iid=10, r_ui=4, est=3.497691535784751, details={'actual_k': 30, 'was_impossible': False})"
      ]
     },
     "execution_count": 30,
     "metadata": {},
     "output_type": "execute_result"
    }
   ],
   "source": [
    "sim_user_user_optimized.predict(4, 10, r_ui = 4, verbose = True)"
   ]
  },
  {
   "cell_type": "markdown",
   "id": "b848f77f",
   "metadata": {},
   "source": [
    "If we compare the predicted rating with the actual raring, we can say that the predicted rating by the tuned model is closer to the actual rating in comparison to the prediction by the baseline model."
   ]
  },
  {
   "cell_type": "markdown",
   "id": "8ee80c95",
   "metadata": {},
   "source": [
    "Below, we are predicting the rating for the same userId = 4 but for a movie with which this user has not interacted before, i.e., movieId = 3, by using the optimized model as shown below."
   ]
  },
  {
   "cell_type": "code",
   "execution_count": 31,
   "id": "a73dc646",
   "metadata": {},
   "outputs": [
    {
     "name": "stdout",
     "output_type": "stream",
     "text": [
      "user: 4          item: 3          r_ui = None   est = 3.45   {'actual_k': 30, 'was_impossible': False}\n"
     ]
    },
    {
     "data": {
      "text/plain": [
       "Prediction(uid=4, iid=3, r_ui=None, est=3.4530529132024763, details={'actual_k': 30, 'was_impossible': False})"
      ]
     },
     "execution_count": 31,
     "metadata": {},
     "output_type": "execute_result"
    }
   ],
   "source": [
    "sim_user_user_optimized.predict(4, 3, verbose = True)"
   ]
  },
  {
   "cell_type": "markdown",
   "id": "f1992560",
   "metadata": {},
   "source": [
    "# Identifying similar users to a given user (nearest neighbors)"
   ]
  },
  {
   "cell_type": "markdown",
   "id": "6a54dc59",
   "metadata": {},
   "source": [
    "We can also find out similar users to a given user or its nearest neighbors based on this KNNBasic algorithm. Below, we are finding the 5 most similar users to userId = 4 based on the msd distance metric."
   ]
  },
  {
   "cell_type": "code",
   "execution_count": 32,
   "id": "a5e7f458",
   "metadata": {},
   "outputs": [
    {
     "data": {
      "text/plain": [
       "[89, 90, 91, 181, 230]"
      ]
     },
     "execution_count": 32,
     "metadata": {},
     "output_type": "execute_result"
    }
   ],
   "source": [
    "sim_user_user_optimized.get_neighbors(4, k = 5)"
   ]
  },
  {
   "cell_type": "markdown",
   "id": "24fc843b",
   "metadata": {},
   "source": [
    "# Implementing the recommendation algorithm based on optimized KNNBasic model"
   ]
  },
  {
   "cell_type": "raw",
   "id": "d5c63333",
   "metadata": {},
   "source": [
    "Below we will be implementing a function where the input parameters are:\n",
    "\n",
    "data: The rating dataset.\n",
    "user_id: The user id for which we want the recommendations.\n",
    "top_n: The number of movies we want to recommend.\n",
    "algo: The algorithm we want to use for predicting the ratings.\n",
    "The output of the function is a set of top_n items recommended for the given user_id based on the given algorithm."
   ]
  },
  {
   "cell_type": "code",
   "execution_count": 33,
   "id": "78f7ea98",
   "metadata": {},
   "outputs": [],
   "source": [
    "def get_recommendations(data, user_id, top_n, algo):\n",
    "    \n",
    "    # Creating an empty list to store the recommended movie ids\n",
    "    recommendations = []\n",
    "    \n",
    "    # Creating an user item interactions matrix\n",
    "    user_item_interactions_matrix = data.pivot(index = 'userId', columns = 'movieId', values = 'rating')\n",
    "    \n",
    "    # Extracting those movie IDs which the user ID has not interacted yet\n",
    "    non_interacted_movies = user_item_interactions_matrix.loc[user_id][user_item_interactions_matrix.loc[user_id].isnull()].index.tolist()\n",
    "    \n",
    "    # Looping through each of the movie IDs which user ID has not interacted yet\n",
    "    for item_id in non_interacted_movies:\n",
    "        \n",
    "        # Predicting the ratings for those non interacted movie IDs by this user\n",
    "        est = algo.predict(user_id, item_id).est\n",
    "        \n",
    "        # Appending the predicted ratings\n",
    "        recommendations.append((item_id, est))\n",
    "\n",
    "    # Sorting the predicted ratings in descending order\n",
    "    recommendations.sort(key = lambda x: x[1], reverse = True)\n",
    "\n",
    "    # Returing top n highest predicted rating movies for this user\n",
    "    return recommendations[:top_n]"
   ]
  },
  {
   "cell_type": "markdown",
   "id": "e7721cc3",
   "metadata": {},
   "source": [
    "Predicted top 5 movies for userId = 4 using the similarity-based recommendation system."
   ]
  },
  {
   "cell_type": "code",
   "execution_count": 34,
   "id": "54c43e88",
   "metadata": {},
   "outputs": [],
   "source": [
    "# Making top 5 recommendations for userId 4 using the similarity-based recommendation system\n",
    "recommendations = get_recommendations(rating, 4, 5, sim_user_user_optimized)"
   ]
  },
  {
   "cell_type": "code",
   "execution_count": 35,
   "id": "03a95604",
   "metadata": {},
   "outputs": [
    {
     "data": {
      "text/html": [
       "<div>\n",
       "<style scoped>\n",
       "    .dataframe tbody tr th:only-of-type {\n",
       "        vertical-align: middle;\n",
       "    }\n",
       "\n",
       "    .dataframe tbody tr th {\n",
       "        vertical-align: top;\n",
       "    }\n",
       "\n",
       "    .dataframe thead th {\n",
       "        text-align: right;\n",
       "    }\n",
       "</style>\n",
       "<table border=\"1\" class=\"dataframe\">\n",
       "  <thead>\n",
       "    <tr style=\"text-align: right;\">\n",
       "      <th></th>\n",
       "      <th>movieId</th>\n",
       "      <th>predicted_ratings</th>\n",
       "    </tr>\n",
       "  </thead>\n",
       "  <tbody>\n",
       "    <tr>\n",
       "      <th>0</th>\n",
       "      <td>3404</td>\n",
       "      <td>5.000000</td>\n",
       "    </tr>\n",
       "    <tr>\n",
       "      <th>1</th>\n",
       "      <td>7121</td>\n",
       "      <td>5.000000</td>\n",
       "    </tr>\n",
       "    <tr>\n",
       "      <th>2</th>\n",
       "      <td>6460</td>\n",
       "      <td>4.844207</td>\n",
       "    </tr>\n",
       "    <tr>\n",
       "      <th>3</th>\n",
       "      <td>115122</td>\n",
       "      <td>4.813285</td>\n",
       "    </tr>\n",
       "    <tr>\n",
       "      <th>4</th>\n",
       "      <td>1178</td>\n",
       "      <td>4.808807</td>\n",
       "    </tr>\n",
       "  </tbody>\n",
       "</table>\n",
       "</div>"
      ],
      "text/plain": [
       "   movieId  predicted_ratings\n",
       "0     3404           5.000000\n",
       "1     7121           5.000000\n",
       "2     6460           4.844207\n",
       "3   115122           4.813285\n",
       "4     1178           4.808807"
      ]
     },
     "execution_count": 35,
     "metadata": {},
     "output_type": "execute_result"
    }
   ],
   "source": [
    "# Building the dataframe for above recommendations with columns \"movieId\" and \"predicted_ratings\"\n",
    "pd.DataFrame(recommendations, columns = ['movieId', 'predicted_ratings'])"
   ]
  },
  {
   "cell_type": "markdown",
   "id": "35994fcd",
   "metadata": {},
   "source": [
    "Updating the ratings and placing the above films\n",
    "When comparing the ratings of two films, keep in mind that ratings do not solely reflect how likely viewers are to engage with a given film. The quantity of users who have watched that movie becomes vital to take into account in addition to the rating. As a result, we determined the \"corrected ratings\" for each film. In general, a movie's \"rating count\" indicates how trustworthy the rating is. A movie with a rating of 4 and a rating count of 3 is seen as being less liked than a movie with a rating of 3 and a rating count of 50. According to empirical research, the likelihood of the film is directly correlated with the inverse of the square root of the movie"
   ]
  },
  {
   "cell_type": "code",
   "execution_count": 36,
   "id": "6fb4dd03",
   "metadata": {},
   "outputs": [],
   "source": [
    "def ranking_movies(recommendations, final_rating):\n",
    "\n",
    "  # Sort the movies based on ratings count\n",
    "  ranked_movies = final_rating.loc[[items[0] for items in recommendations]].sort_values('rating_count', ascending = False)[['rating_count']].reset_index()\n",
    "\n",
    "  # Merge with the recommended movies to get predicted ratings\n",
    "  ranked_movies = ranked_movies.merge(pd.DataFrame(recommendations, columns = ['movieId', 'predicted_ratings']), on = 'movieId', how = 'inner')\n",
    "\n",
    "  # Rank the movies based on corrected ratings\n",
    "  ranked_movies['corrected_ratings'] = ranked_movies['predicted_ratings'] - 1 / np.sqrt(ranked_movies['rating_count'])\n",
    "\n",
    "  # Sort the movies based on corrected ratings\n",
    "  ranked_movies = ranked_movies.sort_values('corrected_ratings', ascending = False)\n",
    "  \n",
    "  return ranked_movies"
   ]
  },
  {
   "cell_type": "markdown",
   "id": "e6db6fdf",
   "metadata": {},
   "source": [
    "Note: To obtain more optimistic forecasts using the above-corrected rating method, we can add the amount 1/np.sqrt(n) rather than subtract it. But, we are deducting this amount in this case because certain movies have ratings of 5, and we are not allowed to give a movie a rating higher than 5."
   ]
  },
  {
   "cell_type": "code",
   "execution_count": 37,
   "id": "eeae80ae",
   "metadata": {},
   "outputs": [
    {
     "data": {
      "text/html": [
       "<div>\n",
       "<style scoped>\n",
       "    .dataframe tbody tr th:only-of-type {\n",
       "        vertical-align: middle;\n",
       "    }\n",
       "\n",
       "    .dataframe tbody tr th {\n",
       "        vertical-align: top;\n",
       "    }\n",
       "\n",
       "    .dataframe thead th {\n",
       "        text-align: right;\n",
       "    }\n",
       "</style>\n",
       "<table border=\"1\" class=\"dataframe\">\n",
       "  <thead>\n",
       "    <tr style=\"text-align: right;\">\n",
       "      <th></th>\n",
       "      <th>movieId</th>\n",
       "      <th>rating_count</th>\n",
       "      <th>predicted_ratings</th>\n",
       "      <th>corrected_ratings</th>\n",
       "    </tr>\n",
       "  </thead>\n",
       "  <tbody>\n",
       "    <tr>\n",
       "      <th>1</th>\n",
       "      <td>3404</td>\n",
       "      <td>6</td>\n",
       "      <td>5.000000</td>\n",
       "      <td>4.591752</td>\n",
       "    </tr>\n",
       "    <tr>\n",
       "      <th>0</th>\n",
       "      <td>1178</td>\n",
       "      <td>12</td>\n",
       "      <td>4.808807</td>\n",
       "      <td>4.520132</td>\n",
       "    </tr>\n",
       "    <tr>\n",
       "      <th>3</th>\n",
       "      <td>7121</td>\n",
       "      <td>4</td>\n",
       "      <td>5.000000</td>\n",
       "      <td>4.500000</td>\n",
       "    </tr>\n",
       "    <tr>\n",
       "      <th>2</th>\n",
       "      <td>6460</td>\n",
       "      <td>5</td>\n",
       "      <td>4.844207</td>\n",
       "      <td>4.396993</td>\n",
       "    </tr>\n",
       "    <tr>\n",
       "      <th>4</th>\n",
       "      <td>115122</td>\n",
       "      <td>3</td>\n",
       "      <td>4.813285</td>\n",
       "      <td>4.235934</td>\n",
       "    </tr>\n",
       "  </tbody>\n",
       "</table>\n",
       "</div>"
      ],
      "text/plain": [
       "   movieId  rating_count  predicted_ratings  corrected_ratings\n",
       "1     3404             6           5.000000           4.591752\n",
       "0     1178            12           4.808807           4.520132\n",
       "3     7121             4           5.000000           4.500000\n",
       "2     6460             5           4.844207           4.396993\n",
       "4   115122             3           4.813285           4.235934"
      ]
     },
     "execution_count": 37,
     "metadata": {},
     "output_type": "execute_result"
    }
   ],
   "source": [
    "# Applying the ranking movies function and sorting it based on corrected ratings\n",
    "ranking_movies(recommendations, final_rating)"
   ]
  },
  {
   "cell_type": "markdown",
   "id": "b38e79dd",
   "metadata": {},
   "source": [
    "# Item-Item Similarity-Based Collaborative Filtering Recommendation Systems"
   ]
  },
  {
   "cell_type": "code",
   "execution_count": 38,
   "id": "2b7dff65",
   "metadata": {},
   "outputs": [
    {
     "name": "stdout",
     "output_type": "stream",
     "text": [
      "RMSE: 0.9800\n",
      "Precision:  0.609\n",
      "Recall:  0.464\n",
      "F_1 score:  0.527\n"
     ]
    }
   ],
   "source": [
    "# Declaring the similarity options\n",
    "sim_options = {'name': 'cosine',\n",
    "               'user_based': False}\n",
    "\n",
    "# The KNN algorithm is used to find desired similar items\n",
    "sim_item_item = KNNBasic(sim_options = sim_options, random_state = 1, verbose = False)\n",
    "\n",
    "# Train the algorithm on the trainset, and predict ratings for the testset\n",
    "sim_item_item.fit(trainset)\n",
    "\n",
    "# Let us compute precision@k, recall@k, and f_1 score with k = 10\n",
    "precision_recall_at_k(sim_item_item)"
   ]
  },
  {
   "cell_type": "markdown",
   "id": "674d1b87",
   "metadata": {},
   "source": [
    "Here, F_1 score of the baseline model is ~0.53. We will try to improve this later by tuning different hyperparameters of this algorithm using GridSearchCV."
   ]
  },
  {
   "cell_type": "markdown",
   "id": "5b13928d",
   "metadata": {},
   "source": [
    "Let's now predict the rating for the user with userId = 4 and the movie with movieId = 10 as shown below. Here, the user has already interacted or watched the movie with movieId 10."
   ]
  },
  {
   "cell_type": "code",
   "execution_count": 39,
   "id": "31d8e9f4",
   "metadata": {},
   "outputs": [
    {
     "name": "stdout",
     "output_type": "stream",
     "text": [
      "user: 4          item: 10         r_ui = 4.00   est = 3.63   {'actual_k': 40, 'was_impossible': False}\n"
     ]
    },
    {
     "data": {
      "text/plain": [
       "Prediction(uid=4, iid=10, r_ui=4, est=3.6257369831511945, details={'actual_k': 40, 'was_impossible': False})"
      ]
     },
     "execution_count": 39,
     "metadata": {},
     "output_type": "execute_result"
    }
   ],
   "source": [
    "# Predicting rating for a sample user with an interacted movie\n",
    "sim_item_item.predict(4, 10, r_ui = 4, verbose = True)"
   ]
  },
  {
   "cell_type": "markdown",
   "id": "ac7da7c0",
   "metadata": {},
   "source": [
    "we can also show below how we are predicting the rating for the same userId = 4 but for a movie with which this user has not interacted yet, i.e., movieId = 3."
   ]
  },
  {
   "cell_type": "code",
   "execution_count": 40,
   "id": "53a7bdac",
   "metadata": {},
   "outputs": [
    {
     "name": "stdout",
     "output_type": "stream",
     "text": [
      "user: 4          item: 3          r_ui = None   est = 3.67   {'actual_k': 40, 'was_impossible': False}\n"
     ]
    },
    {
     "data": {
      "text/plain": [
       "Prediction(uid=4, iid=3, r_ui=None, est=3.6748659322681623, details={'actual_k': 40, 'was_impossible': False})"
      ]
     },
     "execution_count": 40,
     "metadata": {},
     "output_type": "execute_result"
    }
   ],
   "source": [
    "# Predicting rating for a sample user with a non interacted movie\n",
    "sim_item_item.predict(4, 3, verbose = True)"
   ]
  },
  {
   "cell_type": "markdown",
   "id": "69571b33",
   "metadata": {},
   "source": [
    "# Improving similarity-based recommendation system by tuning its hyperparameters"
   ]
  },
  {
   "cell_type": "markdown",
   "id": "7f03dc72",
   "metadata": {},
   "source": [
    "we will be tuning hyperparameters of the KNNBasic algorithm."
   ]
  },
  {
   "cell_type": "code",
   "execution_count": 41,
   "id": "e245c3be",
   "metadata": {},
   "outputs": [
    {
     "name": "stdout",
     "output_type": "stream",
     "text": [
      "0.9170219143618793\n",
      "{'k': 30, 'min_k': 6, 'sim_options': {'name': 'msd', 'user_based': False}}\n"
     ]
    }
   ],
   "source": [
    "# Setting up parameter grid to tune the hyperparameters\n",
    "param_grid = {'k': [10, 20, 30], 'min_k': [3, 6, 9],\n",
    "              'sim_options': {'name': ['msd', 'cosine'],\n",
    "                              'user_based': [False]}\n",
    "              }\n",
    "\n",
    "# Performing 3-Fold cross validation to tune the hyperparameters\n",
    "gs = GridSearchCV(KNNBasic, param_grid, measures = ['rmse'], cv = 3, n_jobs = -1)\n",
    "\n",
    "# Fitting the model on the data\n",
    "gs.fit(data)\n",
    "\n",
    "# Print the best RMSE score\n",
    "print(gs.best_score['rmse'])\n",
    "\n",
    "# Print the combination of parameters that gave the best RMSE score\n",
    "print(gs.best_params['rmse'])"
   ]
  },
  {
   "cell_type": "markdown",
   "id": "48f9408f",
   "metadata": {},
   "source": [
    "We can see that the model's F 1 score is higher than the baseline model after hyperparameter adjustment. Moreover, the model's RMSE has decreased when compared to the model with default hyperparameters. So, we may conclude that following hyperparameter adjustment, the model's performance has increased."
   ]
  },
  {
   "cell_type": "markdown",
   "id": "37b72e49",
   "metadata": {},
   "source": [
    "Let's now predict the rating for the user with userId = 4 and the movie with movieId = 10 using the optimized model as shown below."
   ]
  },
  {
   "cell_type": "code",
   "execution_count": 45,
   "id": "bf86d9b6",
   "metadata": {},
   "outputs": [
    {
     "name": "stdout",
     "output_type": "stream",
     "text": [
      "RMSE: 0.9160\n",
      "Precision:  0.678\n",
      "Recall:  0.499\n",
      "F_1 score:  0.575\n"
     ]
    }
   ],
   "source": [
    "# Using the optimal similarity measure for item-item based collaborative filtering\n",
    "sim_options = {'name': 'msd',\n",
    "               'user_based': False}\n",
    "\n",
    "# Creating an instance of KNNBasic with optimal hyperparameter values\n",
    "sim_item_item_optimized = KNNBasic(sim_options = sim_options, k = 30, min_k = 6, random_state = 1, verbose = False)\n",
    "\n",
    "# Training the algorithm on the trainset\n",
    "sim_item_item_optimized.fit(trainset)\n",
    "\n",
    "# Let us compute precision@k, recall@k, and f_1 score with k = 10\n",
    "precision_recall_at_k(sim_item_item_optimized)"
   ]
  },
  {
   "cell_type": "code",
   "execution_count": 46,
   "id": "d33ff203",
   "metadata": {},
   "outputs": [
    {
     "name": "stdout",
     "output_type": "stream",
     "text": [
      "user: 4          item: 10         r_ui = 4.00   est = 3.26   {'actual_k': 30, 'was_impossible': False}\n"
     ]
    },
    {
     "data": {
      "text/plain": [
       "Prediction(uid=4, iid=10, r_ui=4, est=3.2569148418342952, details={'actual_k': 30, 'was_impossible': False})"
      ]
     },
     "execution_count": 46,
     "metadata": {},
     "output_type": "execute_result"
    }
   ],
   "source": [
    "sim_item_item_optimized.predict(4, 10, r_ui = 4, verbose = True)"
   ]
  },
  {
   "cell_type": "markdown",
   "id": "a6685a59",
   "metadata": {},
   "source": [
    "In contrast to the optimized model, the baseline model's predicted rating was shown to be closer to the actual rating. This may be the case because, despite the fact that the aggregate score has gone up, the prognosis for this specific user is not that strong."
   ]
  },
  {
   "cell_type": "markdown",
   "id": "f5b92666",
   "metadata": {},
   "source": [
    "Below we are predicting the rating for the same userId = 4 but for a movie which this user has not interacted before, i.e., movieId = 3, by using the optimized model as shown below."
   ]
  },
  {
   "cell_type": "code",
   "execution_count": 47,
   "id": "8393098a",
   "metadata": {},
   "outputs": [
    {
     "name": "stdout",
     "output_type": "stream",
     "text": [
      "user: 4          item: 3          r_ui = None   est = 3.57   {'actual_k': 30, 'was_impossible': False}\n"
     ]
    },
    {
     "data": {
      "text/plain": [
       "Prediction(uid=4, iid=3, r_ui=None, est=3.574650247164053, details={'actual_k': 30, 'was_impossible': False})"
      ]
     },
     "execution_count": 47,
     "metadata": {},
     "output_type": "execute_result"
    }
   ],
   "source": [
    "sim_item_item_optimized.predict(4, 3, verbose = True)"
   ]
  },
  {
   "cell_type": "markdown",
   "id": "cb807757",
   "metadata": {},
   "source": [
    "# Identifying similar items to a given item (nearest neighbors)"
   ]
  },
  {
   "cell_type": "code",
   "execution_count": 48,
   "id": "a0dc35e9",
   "metadata": {},
   "outputs": [
    {
     "data": {
      "text/plain": [
       "[45, 73, 148, 155, 180]"
      ]
     },
     "execution_count": 48,
     "metadata": {},
     "output_type": "execute_result"
    }
   ],
   "source": [
    "sim_item_item_optimized.get_neighbors(4, k = 5)"
   ]
  },
  {
   "cell_type": "markdown",
   "id": "c7182a08",
   "metadata": {},
   "source": [
    "Predicting top 5 movies for userId = 4 using the similarity-based recommendation system."
   ]
  },
  {
   "cell_type": "code",
   "execution_count": 49,
   "id": "84246695",
   "metadata": {},
   "outputs": [],
   "source": [
    "# Making top 5 recommendations for userId 4 using the similarity-based recommendation system\n",
    "recommendations = get_recommendations(rating, 4, 5, sim_item_item_optimized)"
   ]
  },
  {
   "cell_type": "code",
   "execution_count": 50,
   "id": "2a8c2c12",
   "metadata": {},
   "outputs": [
    {
     "data": {
      "text/html": [
       "<div>\n",
       "<style scoped>\n",
       "    .dataframe tbody tr th:only-of-type {\n",
       "        vertical-align: middle;\n",
       "    }\n",
       "\n",
       "    .dataframe tbody tr th {\n",
       "        vertical-align: top;\n",
       "    }\n",
       "\n",
       "    .dataframe thead th {\n",
       "        text-align: right;\n",
       "    }\n",
       "</style>\n",
       "<table border=\"1\" class=\"dataframe\">\n",
       "  <thead>\n",
       "    <tr style=\"text-align: right;\">\n",
       "      <th></th>\n",
       "      <th>movieId</th>\n",
       "      <th>predicted_ratings</th>\n",
       "    </tr>\n",
       "  </thead>\n",
       "  <tbody>\n",
       "    <tr>\n",
       "      <th>0</th>\n",
       "      <td>5706</td>\n",
       "      <td>4.771028</td>\n",
       "    </tr>\n",
       "    <tr>\n",
       "      <th>1</th>\n",
       "      <td>176579</td>\n",
       "      <td>4.748016</td>\n",
       "    </tr>\n",
       "    <tr>\n",
       "      <th>2</th>\n",
       "      <td>25959</td>\n",
       "      <td>4.744049</td>\n",
       "    </tr>\n",
       "    <tr>\n",
       "      <th>3</th>\n",
       "      <td>2149</td>\n",
       "      <td>4.730439</td>\n",
       "    </tr>\n",
       "    <tr>\n",
       "      <th>4</th>\n",
       "      <td>56176</td>\n",
       "      <td>4.724374</td>\n",
       "    </tr>\n",
       "  </tbody>\n",
       "</table>\n",
       "</div>"
      ],
      "text/plain": [
       "   movieId  predicted_ratings\n",
       "0     5706           4.771028\n",
       "1   176579           4.748016\n",
       "2    25959           4.744049\n",
       "3     2149           4.730439\n",
       "4    56176           4.724374"
      ]
     },
     "execution_count": 50,
     "metadata": {},
     "output_type": "execute_result"
    }
   ],
   "source": [
    "# Building the dataframe for above recommendations with columns \"movieId\" and \"predicted_ratings\"\n",
    "pd.DataFrame(recommendations, columns = ['movieId', 'predicted_ratings'])"
   ]
  },
  {
   "cell_type": "code",
   "execution_count": 51,
   "id": "df32e431",
   "metadata": {},
   "outputs": [
    {
     "data": {
      "text/html": [
       "<div>\n",
       "<style scoped>\n",
       "    .dataframe tbody tr th:only-of-type {\n",
       "        vertical-align: middle;\n",
       "    }\n",
       "\n",
       "    .dataframe tbody tr th {\n",
       "        vertical-align: top;\n",
       "    }\n",
       "\n",
       "    .dataframe thead th {\n",
       "        text-align: right;\n",
       "    }\n",
       "</style>\n",
       "<table border=\"1\" class=\"dataframe\">\n",
       "  <thead>\n",
       "    <tr style=\"text-align: right;\">\n",
       "      <th></th>\n",
       "      <th>movieId</th>\n",
       "      <th>rating_count</th>\n",
       "      <th>predicted_ratings</th>\n",
       "      <th>corrected_ratings</th>\n",
       "    </tr>\n",
       "  </thead>\n",
       "  <tbody>\n",
       "    <tr>\n",
       "      <th>0</th>\n",
       "      <td>2149</td>\n",
       "      <td>4</td>\n",
       "      <td>4.730439</td>\n",
       "      <td>4.230439</td>\n",
       "    </tr>\n",
       "    <tr>\n",
       "      <th>1</th>\n",
       "      <td>56176</td>\n",
       "      <td>3</td>\n",
       "      <td>4.724374</td>\n",
       "      <td>4.147023</td>\n",
       "    </tr>\n",
       "    <tr>\n",
       "      <th>2</th>\n",
       "      <td>5706</td>\n",
       "      <td>1</td>\n",
       "      <td>4.771028</td>\n",
       "      <td>3.771028</td>\n",
       "    </tr>\n",
       "    <tr>\n",
       "      <th>3</th>\n",
       "      <td>176579</td>\n",
       "      <td>1</td>\n",
       "      <td>4.748016</td>\n",
       "      <td>3.748016</td>\n",
       "    </tr>\n",
       "    <tr>\n",
       "      <th>4</th>\n",
       "      <td>25959</td>\n",
       "      <td>1</td>\n",
       "      <td>4.744049</td>\n",
       "      <td>3.744049</td>\n",
       "    </tr>\n",
       "  </tbody>\n",
       "</table>\n",
       "</div>"
      ],
      "text/plain": [
       "   movieId  rating_count  predicted_ratings  corrected_ratings\n",
       "0     2149             4           4.730439           4.230439\n",
       "1    56176             3           4.724374           4.147023\n",
       "2     5706             1           4.771028           3.771028\n",
       "3   176579             1           4.748016           3.748016\n",
       "4    25959             1           4.744049           3.744049"
      ]
     },
     "execution_count": 51,
     "metadata": {},
     "output_type": "execute_result"
    }
   ],
   "source": [
    "# Applying the \"ranking_movies\" function and sorting it based on corrected ratings\n",
    "ranking_movies(recommendations, final_rating)"
   ]
  },
  {
   "cell_type": "markdown",
   "id": "321cb2b1",
   "metadata": {},
   "source": [
    "# Model Based Collaborative Filtering - Matrix Factorization"
   ]
  },
  {
   "cell_type": "markdown",
   "id": "a3545c20",
   "metadata": {},
   "source": [
    "Model-based Collaborative Filtering is a personalized recommendation system, the recommendations are based on the past behavior of the user and it is not dependent on any additional information. We use latent features to find recommendations for each user."
   ]
  },
  {
   "cell_type": "markdown",
   "id": "9c90991d",
   "metadata": {},
   "source": [
    "Building a baseline matrix factorization recommendation system"
   ]
  },
  {
   "cell_type": "code",
   "execution_count": 52,
   "id": "83db0fcc",
   "metadata": {},
   "outputs": [
    {
     "name": "stdout",
     "output_type": "stream",
     "text": [
      "RMSE: 0.8797\n",
      "Precision:  0.738\n",
      "Recall:  0.507\n",
      "F_1 score:  0.601\n"
     ]
    }
   ],
   "source": [
    "# Using SVD with matrix factorization\n",
    "svd = SVD(random_state = 1)\n",
    "\n",
    "# Training the algorithm on the training dataset\n",
    "svd.fit(trainset)\n",
    "\n",
    "# Let us compute precision@k, recall@k, and f_1 score with k = 10\n",
    "precision_recall_at_k(svd)"
   ]
  },
  {
   "cell_type": "markdown",
   "id": "4d04557b",
   "metadata": {},
   "source": [
    "We can observe that the F_1 score for the matrix factorization model on the test set is lower in comparison to the F_1 score for the user-user-similarity recommendation system and optimized user-user similarity-based recommendation system."
   ]
  },
  {
   "cell_type": "markdown",
   "id": "068c00ba",
   "metadata": {},
   "source": [
    "Let's now predict the rating for the user with userId = 4 and the movie with movieId = 10 as shown below. Here, the user has already rated the movie."
   ]
  },
  {
   "cell_type": "code",
   "execution_count": 53,
   "id": "a4fc5756",
   "metadata": {},
   "outputs": [
    {
     "name": "stdout",
     "output_type": "stream",
     "text": [
      "user: 4          item: 10         r_ui = 4.00   est = 3.33   {'was_impossible': False}\n"
     ]
    },
    {
     "data": {
      "text/plain": [
       "Prediction(uid=4, iid=10, r_ui=4, est=3.333359479354037, details={'was_impossible': False})"
      ]
     },
     "execution_count": 53,
     "metadata": {},
     "output_type": "execute_result"
    }
   ],
   "source": [
    "# Making prediction for userId 4 and movieId 10\n",
    "svd.predict(4, 10, r_ui = 4, verbose = True)"
   ]
  },
  {
   "cell_type": "markdown",
   "id": "102a12b0",
   "metadata": {},
   "source": [
    "The actual rating for this user-item pair is 4 and the predicted rating is far from the same. It seems that the model has under-estimated the rating. We will try to fix this by tuning the hyperparameters of the model using GridSearchCV."
   ]
  },
  {
   "cell_type": "markdown",
   "id": "3ee9a89e",
   "metadata": {},
   "source": [
    "Below, we are predicting rating for the same userId = 4 but for a movie which this user has not interacted before, i.e., movieId = 3, as shown below."
   ]
  },
  {
   "cell_type": "code",
   "execution_count": 54,
   "id": "24b7d9a3",
   "metadata": {},
   "outputs": [
    {
     "name": "stdout",
     "output_type": "stream",
     "text": [
      "user: 4          item: 3          r_ui = None   est = 2.94   {'was_impossible': False}\n"
     ]
    },
    {
     "data": {
      "text/plain": [
       "Prediction(uid=4, iid=3, r_ui=None, est=2.9386110726567756, details={'was_impossible': False})"
      ]
     },
     "execution_count": 54,
     "metadata": {},
     "output_type": "execute_result"
    }
   ],
   "source": [
    "# Making prediction for userid 4 and movieId 3\n",
    "svd.predict(4, 3, verbose = True)"
   ]
  },
  {
   "cell_type": "markdown",
   "id": "abcbcbe6",
   "metadata": {},
   "source": [
    "# Improving matrix factorization based recommendation system by tuning its hyperparameters"
   ]
  },
  {
   "cell_type": "markdown",
   "id": "ccff6cf1",
   "metadata": {},
   "source": [
    "Below we will be tuning only three hyperparameters:\n",
    "\n",
    "n_epochs: The number of iterations of the SVD algorithm.\n",
    "lr_all: The learning rate for all the parameters.\n",
    "reg_all: The regularization term for all the parameters."
   ]
  },
  {
   "cell_type": "code",
   "execution_count": 55,
   "id": "afdfaa49",
   "metadata": {},
   "outputs": [
    {
     "name": "stdout",
     "output_type": "stream",
     "text": [
      "0.8733230633379175\n",
      "{'n_epochs': 30, 'lr_all': 0.01, 'reg_all': 0.2}\n"
     ]
    }
   ],
   "source": [
    "# Set the parameter space to do hyperparameter tuning\n",
    "param_grid = {'n_epochs': [10, 20, 30], 'lr_all': [0.001, 0.005, 0.01],\n",
    "              'reg_all': [0.2, 0.4, 0.6]}\n",
    "\n",
    "# Performing 3-Fold gridsearch cross-validation\n",
    "gs = GridSearchCV(SVD, param_grid, measures = ['rmse'], cv = 3, n_jobs = -1)\n",
    "\n",
    "# Fitting the model on the data\n",
    "gs.fit(data)\n",
    "\n",
    "# Print the best RMSE score\n",
    "print(gs.best_score['rmse'])\n",
    "\n",
    "# Print the combination of parameters that gave the best RMSE score\n",
    "print(gs.best_params['rmse'])"
   ]
  },
  {
   "cell_type": "markdown",
   "id": "8fd37c82",
   "metadata": {},
   "source": [
    "Now, we will build the model using the optimal values of hyperparameters that we received from the grid search cross-validation."
   ]
  },
  {
   "cell_type": "code",
   "execution_count": 56,
   "id": "e31f82c7",
   "metadata": {},
   "outputs": [
    {
     "name": "stdout",
     "output_type": "stream",
     "text": [
      "RMSE: 0.8752\n",
      "Precision:  0.731\n",
      "Recall:  0.511\n",
      "F_1 score:  0.602\n"
     ]
    }
   ],
   "source": [
    "# Building the optimized SVD model using optimal hyperparameters search\n",
    "svd_optimized = SVD(n_epochs = 30, lr_all = 0.01, reg_all = 0.2, random_state = 1)\n",
    "\n",
    "# Training the algorithm on the train set\n",
    "svd_optimized = svd_optimized.fit(trainset)\n",
    "\n",
    "# Let us compute precision@k, recall@k, and f_1 score with k = 10\n",
    "precision_recall_at_k(svd_optimized)"
   ]
  },
  {
   "cell_type": "markdown",
   "id": "c7fdc251",
   "metadata": {},
   "source": [
    "We can observe that after tuning hyperparameters, the model performance has not improved by much."
   ]
  },
  {
   "cell_type": "markdown",
   "id": "cb1cda5e",
   "metadata": {},
   "source": [
    "Let's now predict the rating for the user with userId = 4 and the movie with movieId = 10 with the optimized model as shown below."
   ]
  },
  {
   "cell_type": "code",
   "execution_count": 57,
   "id": "26ee64d9",
   "metadata": {},
   "outputs": [
    {
     "name": "stdout",
     "output_type": "stream",
     "text": [
      "user: 4          item: 10         r_ui = 4.00   est = 3.39   {'was_impossible': False}\n"
     ]
    },
    {
     "data": {
      "text/plain": [
       "Prediction(uid=4, iid=10, r_ui=4, est=3.3892642624049993, details={'was_impossible': False})"
      ]
     },
     "execution_count": 57,
     "metadata": {},
     "output_type": "execute_result"
    }
   ],
   "source": [
    "# Using svd_algo_optimized model to recommend for userId 4 and movieId 10\n",
    "svd_optimized.predict(4, 10, r_ui = 4, verbose = True)"
   ]
  },
  {
   "cell_type": "code",
   "execution_count": 58,
   "id": "fc0d43e6",
   "metadata": {},
   "outputs": [
    {
     "name": "stdout",
     "output_type": "stream",
     "text": [
      "user: 4          item: 3          r_ui = None   est = 3.20   {'was_impossible': False}\n"
     ]
    },
    {
     "data": {
      "text/plain": [
       "Prediction(uid=4, iid=3, r_ui=None, est=3.20286300753659, details={'was_impossible': False})"
      ]
     },
     "execution_count": 58,
     "metadata": {},
     "output_type": "execute_result"
    }
   ],
   "source": [
    "# Using svd_algo_optimized model to recommend for userId 4 and movieId 3 with unknown baseline rating\n",
    "svd_optimized.predict(4, 3, verbose = True)"
   ]
  },
  {
   "cell_type": "markdown",
   "id": "6d11d733",
   "metadata": {},
   "source": [
    "Now, let's recommend the movies using the optimized svd model."
   ]
  },
  {
   "cell_type": "code",
   "execution_count": 59,
   "id": "87a44b11",
   "metadata": {},
   "outputs": [],
   "source": [
    "# Getting top 5 recommendations for userId 4 using \"svd_algo_optimized\" algorithm\n",
    "svd_recommendations = get_recommendations(rating, 4, 5, svd_optimized)"
   ]
  },
  {
   "cell_type": "code",
   "execution_count": 60,
   "id": "4bfe797a",
   "metadata": {},
   "outputs": [
    {
     "data": {
      "text/html": [
       "<div>\n",
       "<style scoped>\n",
       "    .dataframe tbody tr th:only-of-type {\n",
       "        vertical-align: middle;\n",
       "    }\n",
       "\n",
       "    .dataframe tbody tr th {\n",
       "        vertical-align: top;\n",
       "    }\n",
       "\n",
       "    .dataframe thead th {\n",
       "        text-align: right;\n",
       "    }\n",
       "</style>\n",
       "<table border=\"1\" class=\"dataframe\">\n",
       "  <thead>\n",
       "    <tr style=\"text-align: right;\">\n",
       "      <th></th>\n",
       "      <th>movieId</th>\n",
       "      <th>rating_count</th>\n",
       "      <th>predicted_ratings</th>\n",
       "      <th>corrected_ratings</th>\n",
       "    </tr>\n",
       "  </thead>\n",
       "  <tbody>\n",
       "    <tr>\n",
       "      <th>0</th>\n",
       "      <td>1178</td>\n",
       "      <td>12</td>\n",
       "      <td>4.446400</td>\n",
       "      <td>4.157725</td>\n",
       "    </tr>\n",
       "    <tr>\n",
       "      <th>1</th>\n",
       "      <td>177593</td>\n",
       "      <td>8</td>\n",
       "      <td>4.380428</td>\n",
       "      <td>4.026875</td>\n",
       "    </tr>\n",
       "    <tr>\n",
       "      <th>2</th>\n",
       "      <td>106642</td>\n",
       "      <td>7</td>\n",
       "      <td>4.379596</td>\n",
       "      <td>4.001631</td>\n",
       "    </tr>\n",
       "    <tr>\n",
       "      <th>3</th>\n",
       "      <td>3266</td>\n",
       "      <td>6</td>\n",
       "      <td>4.332485</td>\n",
       "      <td>3.924236</td>\n",
       "    </tr>\n",
       "    <tr>\n",
       "      <th>4</th>\n",
       "      <td>7121</td>\n",
       "      <td>4</td>\n",
       "      <td>4.342665</td>\n",
       "      <td>3.842665</td>\n",
       "    </tr>\n",
       "  </tbody>\n",
       "</table>\n",
       "</div>"
      ],
      "text/plain": [
       "   movieId  rating_count  predicted_ratings  corrected_ratings\n",
       "0     1178            12           4.446400           4.157725\n",
       "1   177593             8           4.380428           4.026875\n",
       "2   106642             7           4.379596           4.001631\n",
       "3     3266             6           4.332485           3.924236\n",
       "4     7121             4           4.342665           3.842665"
      ]
     },
     "execution_count": 60,
     "metadata": {},
     "output_type": "execute_result"
    }
   ],
   "source": [
    "# Ranking movies based on above recommendations\n",
    "ranking_movies(svd_recommendations, final_rating)"
   ]
  },
  {
   "cell_type": "markdown",
   "id": "6a132c0b",
   "metadata": {},
   "source": [
    "Summary\n",
    "In this case study, we built recommendation systems using four different algorithms. They are as follows:\n",
    "\n",
    "Rank-based using averages\n",
    "User-User similarity-based collaborative filtering\n",
    "Item-Item similarity-based collaborative filtering\n",
    "Model-based collaborative filtering (matrix factorization)\n",
    "The surprise library was used to demonstrate\"user-user similarity-based collaborative filtering,\" \"item-item similarity-based collaborative filtering,\" and \"model-based collaborative filtering (matrix factorization)\" algorithms. For these algorithms, grid search cross-validation is used to find the optimal hyperparameters for the data, and related predictions are created using the optimal hyperparameters.\n",
    "For performance evaluation of these models precision@k and recall@k are used. Using these two metrics, the F_1 score is calculated for each working model.\n",
    "Overall, the user-user similarity-based recommendation system has given the best performance in terms of the F1-Score.\n",
    "We can try to further improve the performance of these models using hyperparameter tuning.\n",
    "We can also combine different recommendation techniques to build hybrid recommendation systems."
   ]
  },
  {
   "cell_type": "markdown",
   "id": "1656e8f3",
   "metadata": {},
   "source": [
    "Next we will perform Neural Collaborative Filtering (NCF) and Variational Autoencoders (VAEs)"
   ]
  },
  {
   "cell_type": "markdown",
   "id": "d8e9a90f",
   "metadata": {},
   "source": [
    "# Neural Collaborative Filtering"
   ]
  },
  {
   "cell_type": "code",
   "execution_count": null,
   "id": "10073eea",
   "metadata": {},
   "outputs": [],
   "source": []
  }
 ],
 "metadata": {
  "kernelspec": {
   "display_name": "Python 3",
   "language": "python",
   "name": "python3"
  },
  "language_info": {
   "codemirror_mode": {
    "name": "ipython",
    "version": 3
   },
   "file_extension": ".py",
   "mimetype": "text/x-python",
   "name": "python",
   "nbconvert_exporter": "python",
   "pygments_lexer": "ipython3",
   "version": "3.8.8"
  }
 },
 "nbformat": 4,
 "nbformat_minor": 5
}
